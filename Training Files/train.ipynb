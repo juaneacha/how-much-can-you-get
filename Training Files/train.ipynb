{
 "cells": [
  {
   "cell_type": "code",
   "execution_count": 1,
   "id": "f366feca",
   "metadata": {},
   "outputs": [],
   "source": [
    "import pandas as pd\n",
    "import seaborn as sns\n",
    "import matplotlib.pyplot as plt\n",
    "import numpy as np\n",
    "from matplotlib.colors import ListedColormap\n",
    "\n",
    "from sklearn.preprocessing import LabelEncoder\n",
    "from sklearn.preprocessing import StandardScaler\n",
    "from sklearn.model_selection import train_test_split\n",
    "from sklearn.model_selection import cross_val_score\n",
    "\n",
    "from sklearn.linear_model import LinearRegression\n",
    "from sklearn.linear_model import Ridge\n",
    "from sklearn.linear_model import Lasso\n",
    "from sklearn.linear_model import ElasticNet\n",
    "from sklearn.linear_model import SGDRegressor\n",
    "\n",
    "from sklearn import metrics\n",
    "\n",
    "\n"
   ]
  },
  {
   "cell_type": "code",
   "execution_count": 2,
   "id": "3717e9b1-8ebb-4c1a-a910-6d1d32d00446",
   "metadata": {
    "scrolled": true
   },
   "outputs": [
    {
     "data": {
      "text/plain": [
       "(255347, 17)"
      ]
     },
     "execution_count": 2,
     "metadata": {},
     "output_type": "execute_result"
    }
   ],
   "source": [
    "#LOADING DATA\n",
    "df = pd.read_csv(\"D://Download//Loan_default.csv//Loan_default.csv\") #Source: https://www.kaggle.com/datasets/nikhil1e9/loan-default\n",
    "df.shape"
   ]
  },
  {
   "cell_type": "code",
   "execution_count": 3,
   "id": "8766b9ba-5f89-47ff-a090-20993366f611",
   "metadata": {},
   "outputs": [
    {
     "data": {
      "text/html": [
       "<div>\n",
       "<style scoped>\n",
       "    .dataframe tbody tr th:only-of-type {\n",
       "        vertical-align: middle;\n",
       "    }\n",
       "\n",
       "    .dataframe tbody tr th {\n",
       "        vertical-align: top;\n",
       "    }\n",
       "\n",
       "    .dataframe thead th {\n",
       "        text-align: right;\n",
       "    }\n",
       "</style>\n",
       "<table border=\"1\" class=\"dataframe\">\n",
       "  <thead>\n",
       "    <tr style=\"text-align: right;\">\n",
       "      <th></th>\n",
       "      <th>Age</th>\n",
       "      <th>Income</th>\n",
       "      <th>LoanAmount</th>\n",
       "      <th>CreditScore</th>\n",
       "      <th>MonthsEmployed</th>\n",
       "      <th>NumCreditLines</th>\n",
       "      <th>InterestRate</th>\n",
       "      <th>LoanTerm</th>\n",
       "      <th>DTIRatio</th>\n",
       "      <th>Education</th>\n",
       "      <th>EmploymentType</th>\n",
       "      <th>MaritalStatus</th>\n",
       "      <th>HasMortgage</th>\n",
       "      <th>HasDependents</th>\n",
       "      <th>LoanPurpose</th>\n",
       "      <th>HasCoSigner</th>\n",
       "      <th>Default</th>\n",
       "    </tr>\n",
       "  </thead>\n",
       "  <tbody>\n",
       "    <tr>\n",
       "      <th>0</th>\n",
       "      <td>56</td>\n",
       "      <td>85994</td>\n",
       "      <td>50587</td>\n",
       "      <td>520</td>\n",
       "      <td>80</td>\n",
       "      <td>4</td>\n",
       "      <td>15.23</td>\n",
       "      <td>36</td>\n",
       "      <td>0.44</td>\n",
       "      <td>Bachelor's</td>\n",
       "      <td>Full-time</td>\n",
       "      <td>Divorced</td>\n",
       "      <td>Yes</td>\n",
       "      <td>Yes</td>\n",
       "      <td>Other</td>\n",
       "      <td>Yes</td>\n",
       "      <td>0</td>\n",
       "    </tr>\n",
       "    <tr>\n",
       "      <th>1</th>\n",
       "      <td>69</td>\n",
       "      <td>50432</td>\n",
       "      <td>124440</td>\n",
       "      <td>458</td>\n",
       "      <td>15</td>\n",
       "      <td>1</td>\n",
       "      <td>4.81</td>\n",
       "      <td>60</td>\n",
       "      <td>0.68</td>\n",
       "      <td>Master's</td>\n",
       "      <td>Full-time</td>\n",
       "      <td>Married</td>\n",
       "      <td>No</td>\n",
       "      <td>No</td>\n",
       "      <td>Other</td>\n",
       "      <td>Yes</td>\n",
       "      <td>0</td>\n",
       "    </tr>\n",
       "    <tr>\n",
       "      <th>2</th>\n",
       "      <td>46</td>\n",
       "      <td>84208</td>\n",
       "      <td>129188</td>\n",
       "      <td>451</td>\n",
       "      <td>26</td>\n",
       "      <td>3</td>\n",
       "      <td>21.17</td>\n",
       "      <td>24</td>\n",
       "      <td>0.31</td>\n",
       "      <td>Master's</td>\n",
       "      <td>Unemployed</td>\n",
       "      <td>Divorced</td>\n",
       "      <td>Yes</td>\n",
       "      <td>Yes</td>\n",
       "      <td>Auto</td>\n",
       "      <td>No</td>\n",
       "      <td>1</td>\n",
       "    </tr>\n",
       "    <tr>\n",
       "      <th>3</th>\n",
       "      <td>32</td>\n",
       "      <td>31713</td>\n",
       "      <td>44799</td>\n",
       "      <td>743</td>\n",
       "      <td>0</td>\n",
       "      <td>3</td>\n",
       "      <td>7.07</td>\n",
       "      <td>24</td>\n",
       "      <td>0.23</td>\n",
       "      <td>High School</td>\n",
       "      <td>Full-time</td>\n",
       "      <td>Married</td>\n",
       "      <td>No</td>\n",
       "      <td>No</td>\n",
       "      <td>Business</td>\n",
       "      <td>No</td>\n",
       "      <td>0</td>\n",
       "    </tr>\n",
       "    <tr>\n",
       "      <th>4</th>\n",
       "      <td>60</td>\n",
       "      <td>20437</td>\n",
       "      <td>9139</td>\n",
       "      <td>633</td>\n",
       "      <td>8</td>\n",
       "      <td>4</td>\n",
       "      <td>6.51</td>\n",
       "      <td>48</td>\n",
       "      <td>0.73</td>\n",
       "      <td>Bachelor's</td>\n",
       "      <td>Unemployed</td>\n",
       "      <td>Divorced</td>\n",
       "      <td>No</td>\n",
       "      <td>Yes</td>\n",
       "      <td>Auto</td>\n",
       "      <td>No</td>\n",
       "      <td>0</td>\n",
       "    </tr>\n",
       "  </tbody>\n",
       "</table>\n",
       "</div>"
      ],
      "text/plain": [
       "   Age  Income  LoanAmount  CreditScore  MonthsEmployed  NumCreditLines  \\\n",
       "0   56   85994       50587          520              80               4   \n",
       "1   69   50432      124440          458              15               1   \n",
       "2   46   84208      129188          451              26               3   \n",
       "3   32   31713       44799          743               0               3   \n",
       "4   60   20437        9139          633               8               4   \n",
       "\n",
       "   InterestRate  LoanTerm  DTIRatio    Education EmploymentType MaritalStatus  \\\n",
       "0         15.23        36      0.44   Bachelor's      Full-time      Divorced   \n",
       "1          4.81        60      0.68     Master's      Full-time       Married   \n",
       "2         21.17        24      0.31     Master's     Unemployed      Divorced   \n",
       "3          7.07        24      0.23  High School      Full-time       Married   \n",
       "4          6.51        48      0.73   Bachelor's     Unemployed      Divorced   \n",
       "\n",
       "  HasMortgage HasDependents LoanPurpose HasCoSigner  Default  \n",
       "0         Yes           Yes       Other         Yes        0  \n",
       "1          No            No       Other         Yes        0  \n",
       "2         Yes           Yes        Auto          No        1  \n",
       "3          No            No    Business          No        0  \n",
       "4          No           Yes        Auto          No        0  "
      ]
     },
     "execution_count": 3,
     "metadata": {},
     "output_type": "execute_result"
    }
   ],
   "source": [
    "df.head()"
   ]
  },
  {
   "cell_type": "code",
   "execution_count": 4,
   "id": "f740d2f7",
   "metadata": {},
   "outputs": [],
   "source": [
    "#CLEANING"
   ]
  },
  {
   "cell_type": "code",
   "execution_count": 5,
   "id": "44891ef7",
   "metadata": {},
   "outputs": [],
   "source": [
    "#Dropping Unnecessary Features\n",
    "df = df.drop(['InterestRate','DTIRatio', 'Default'], axis = 1)"
   ]
  },
  {
   "cell_type": "code",
   "execution_count": 6,
   "id": "a511e2e0-3dfb-447b-ae46-2ef643d7bb58",
   "metadata": {},
   "outputs": [
    {
     "data": {
      "text/plain": [
       "Age               0\n",
       "Income            0\n",
       "LoanAmount        0\n",
       "CreditScore       0\n",
       "MonthsEmployed    0\n",
       "NumCreditLines    0\n",
       "LoanTerm          0\n",
       "Education         0\n",
       "EmploymentType    0\n",
       "MaritalStatus     0\n",
       "HasMortgage       0\n",
       "HasDependents     0\n",
       "LoanPurpose       0\n",
       "HasCoSigner       0\n",
       "dtype: int64"
      ]
     },
     "execution_count": 6,
     "metadata": {},
     "output_type": "execute_result"
    }
   ],
   "source": [
    "#Checking for Missing Values\n",
    "df.isnull().sum()"
   ]
  },
  {
   "cell_type": "code",
   "execution_count": 7,
   "id": "58ca8cf4-17c0-442c-bc73-86c72bb8944a",
   "metadata": {},
   "outputs": [],
   "source": [
    "#Casting Strings to Int\n",
    "def castToInt(df, feature):\n",
    "    tempFeature = df[feature].unique()\n",
    "\n",
    "    i = 0\n",
    "    while i < len(tempFeature):\n",
    "        df[feature] = df[feature].replace(tempFeature[i], i)\n",
    "        i += 1\n",
    "\n",
    "    df[feature] = df[feature].astype(float)"
   ]
  },
  {
   "cell_type": "code",
   "execution_count": 8,
   "id": "b9b8a6cb-7a7f-469c-bc60-0262ed3564d6",
   "metadata": {},
   "outputs": [
    {
     "data": {
      "text/plain": [
       "array([\"Bachelor's\", \"Master's\", 'High School', 'PhD'], dtype=object)"
      ]
     },
     "execution_count": 8,
     "metadata": {},
     "output_type": "execute_result"
    }
   ],
   "source": [
    "#Tracking the mapping of the feature values\n",
    "df['Education'].unique()"
   ]
  },
  {
   "cell_type": "code",
   "execution_count": 9,
   "id": "1c0d7101-e5cc-4f77-8531-e92827ba2834",
   "metadata": {},
   "outputs": [
    {
     "data": {
      "text/plain": [
       "Education\n",
       "Bachelor's     64366\n",
       "High School    63903\n",
       "Master's       63541\n",
       "PhD            63537\n",
       "Name: count, dtype: int64"
      ]
     },
     "execution_count": 9,
     "metadata": {},
     "output_type": "execute_result"
    }
   ],
   "source": [
    "df['Education'].value_counts()"
   ]
  },
  {
   "cell_type": "code",
   "execution_count": 10,
   "id": "afa17ade-ee92-45dd-894b-d83b23c45922",
   "metadata": {},
   "outputs": [
    {
     "name": "stderr",
     "output_type": "stream",
     "text": [
      "C:\\Users\\juane\\AppData\\Local\\Temp\\ipykernel_22800\\2167145605.py:7: FutureWarning: Downcasting behavior in `replace` is deprecated and will be removed in a future version. To retain the old behavior, explicitly call `result.infer_objects(copy=False)`. To opt-in to the future behavior, set `pd.set_option('future.no_silent_downcasting', True)`\n",
      "  df[feature] = df[feature].replace(tempFeature[i], i)\n"
     ]
    },
    {
     "data": {
      "text/plain": [
       "array([0., 1., 2., 3.])"
      ]
     },
     "execution_count": 10,
     "metadata": {},
     "output_type": "execute_result"
    }
   ],
   "source": [
    "castToInt(df, 'Education')\n",
    "df['Education'].unique()\n"
   ]
  },
  {
   "cell_type": "code",
   "execution_count": 11,
   "id": "38139986-0c02-4202-b06b-03e5eeaf9dfe",
   "metadata": {},
   "outputs": [
    {
     "data": {
      "text/plain": [
       "Education\n",
       "0.0    64366\n",
       "2.0    63903\n",
       "1.0    63541\n",
       "3.0    63537\n",
       "Name: count, dtype: int64"
      ]
     },
     "execution_count": 11,
     "metadata": {},
     "output_type": "execute_result"
    }
   ],
   "source": [
    "df['Education'].value_counts()"
   ]
  },
  {
   "cell_type": "code",
   "execution_count": 12,
   "id": "6b0d4050-8809-4046-bf0d-b87bd796b720",
   "metadata": {},
   "outputs": [
    {
     "name": "stderr",
     "output_type": "stream",
     "text": [
      "C:\\Users\\juane\\AppData\\Local\\Temp\\ipykernel_22800\\2167145605.py:7: FutureWarning: Downcasting behavior in `replace` is deprecated and will be removed in a future version. To retain the old behavior, explicitly call `result.infer_objects(copy=False)`. To opt-in to the future behavior, set `pd.set_option('future.no_silent_downcasting', True)`\n",
      "  df[feature] = df[feature].replace(tempFeature[i], i)\n",
      "C:\\Users\\juane\\AppData\\Local\\Temp\\ipykernel_22800\\2167145605.py:7: FutureWarning: Downcasting behavior in `replace` is deprecated and will be removed in a future version. To retain the old behavior, explicitly call `result.infer_objects(copy=False)`. To opt-in to the future behavior, set `pd.set_option('future.no_silent_downcasting', True)`\n",
      "  df[feature] = df[feature].replace(tempFeature[i], i)\n",
      "C:\\Users\\juane\\AppData\\Local\\Temp\\ipykernel_22800\\2167145605.py:7: FutureWarning: Downcasting behavior in `replace` is deprecated and will be removed in a future version. To retain the old behavior, explicitly call `result.infer_objects(copy=False)`. To opt-in to the future behavior, set `pd.set_option('future.no_silent_downcasting', True)`\n",
      "  df[feature] = df[feature].replace(tempFeature[i], i)\n",
      "C:\\Users\\juane\\AppData\\Local\\Temp\\ipykernel_22800\\2167145605.py:7: FutureWarning: Downcasting behavior in `replace` is deprecated and will be removed in a future version. To retain the old behavior, explicitly call `result.infer_objects(copy=False)`. To opt-in to the future behavior, set `pd.set_option('future.no_silent_downcasting', True)`\n",
      "  df[feature] = df[feature].replace(tempFeature[i], i)\n",
      "C:\\Users\\juane\\AppData\\Local\\Temp\\ipykernel_22800\\2167145605.py:7: FutureWarning: Downcasting behavior in `replace` is deprecated and will be removed in a future version. To retain the old behavior, explicitly call `result.infer_objects(copy=False)`. To opt-in to the future behavior, set `pd.set_option('future.no_silent_downcasting', True)`\n",
      "  df[feature] = df[feature].replace(tempFeature[i], i)\n",
      "C:\\Users\\juane\\AppData\\Local\\Temp\\ipykernel_22800\\2167145605.py:7: FutureWarning: Downcasting behavior in `replace` is deprecated and will be removed in a future version. To retain the old behavior, explicitly call `result.infer_objects(copy=False)`. To opt-in to the future behavior, set `pd.set_option('future.no_silent_downcasting', True)`\n",
      "  df[feature] = df[feature].replace(tempFeature[i], i)\n"
     ]
    }
   ],
   "source": [
    "#Casting the rest of the features\n",
    "castToInt(df, 'EmploymentType')\n",
    "castToInt(df, 'MaritalStatus')\n",
    "castToInt(df, 'HasMortgage')\n",
    "castToInt(df, 'HasDependents')\n",
    "castToInt(df, 'LoanPurpose')\n",
    "castToInt(df, 'HasCoSigner')"
   ]
  },
  {
   "cell_type": "code",
   "execution_count": 13,
   "id": "b374b471-8d1a-487b-9e88-c9b0783ab44c",
   "metadata": {},
   "outputs": [
    {
     "data": {
      "text/plain": [
       "(255347, 14)"
      ]
     },
     "execution_count": 13,
     "metadata": {},
     "output_type": "execute_result"
    }
   ],
   "source": [
    "#Dropping Outliers\n",
    "def drop_outliers_IQR(df):\n",
    "\n",
    "   q1=df.quantile(0.25)\n",
    "\n",
    "   q3=df.quantile(0.75)\n",
    "\n",
    "   IQR=q3-q1\n",
    "\n",
    "   not_outliers = df[~((df<(q1-1.5*IQR)) | (df>(q3+1.5*IQR)))]\n",
    "\n",
    "   outliers_dropped = not_outliers.dropna()\n",
    "\n",
    "   return outliers_dropped\n",
    "\n",
    "df = drop_outliers_IQR(df)\n",
    "df.shape"
   ]
  },
  {
   "cell_type": "code",
   "execution_count": 14,
   "id": "591941fc-2cc4-4340-8dd2-372ba4a09c5f",
   "metadata": {},
   "outputs": [],
   "source": [
    "#MACHINE LEARNING"
   ]
  },
  {
   "cell_type": "code",
   "execution_count": 15,
   "id": "5f361758-d6d3-4e8d-8044-dc2d1e6dea83",
   "metadata": {
    "scrolled": true
   },
   "outputs": [
    {
     "data": {
      "text/html": [
       "<div>\n",
       "<style scoped>\n",
       "    .dataframe tbody tr th:only-of-type {\n",
       "        vertical-align: middle;\n",
       "    }\n",
       "\n",
       "    .dataframe tbody tr th {\n",
       "        vertical-align: top;\n",
       "    }\n",
       "\n",
       "    .dataframe thead th {\n",
       "        text-align: right;\n",
       "    }\n",
       "</style>\n",
       "<table border=\"1\" class=\"dataframe\">\n",
       "  <thead>\n",
       "    <tr style=\"text-align: right;\">\n",
       "      <th></th>\n",
       "      <th>Age</th>\n",
       "      <th>Income</th>\n",
       "      <th>LoanAmount</th>\n",
       "      <th>CreditScore</th>\n",
       "      <th>MonthsEmployed</th>\n",
       "      <th>NumCreditLines</th>\n",
       "      <th>LoanTerm</th>\n",
       "      <th>Education</th>\n",
       "      <th>EmploymentType</th>\n",
       "      <th>MaritalStatus</th>\n",
       "      <th>HasMortgage</th>\n",
       "      <th>HasDependents</th>\n",
       "      <th>LoanPurpose</th>\n",
       "      <th>HasCoSigner</th>\n",
       "    </tr>\n",
       "  </thead>\n",
       "  <tbody>\n",
       "    <tr>\n",
       "      <th>Age</th>\n",
       "      <td>1.000000</td>\n",
       "      <td>-0.001244</td>\n",
       "      <td>-0.002213</td>\n",
       "      <td>-0.000548</td>\n",
       "      <td>-0.000341</td>\n",
       "      <td>-0.000890</td>\n",
       "      <td>0.000263</td>\n",
       "      <td>-0.001034</td>\n",
       "      <td>-0.002529</td>\n",
       "      <td>-0.002187</td>\n",
       "      <td>-0.000035</td>\n",
       "      <td>-0.000710</td>\n",
       "      <td>-0.004313</td>\n",
       "      <td>0.002918</td>\n",
       "    </tr>\n",
       "    <tr>\n",
       "      <th>Income</th>\n",
       "      <td>-0.001244</td>\n",
       "      <td>1.000000</td>\n",
       "      <td>-0.000865</td>\n",
       "      <td>-0.001430</td>\n",
       "      <td>0.002675</td>\n",
       "      <td>-0.002016</td>\n",
       "      <td>-0.000998</td>\n",
       "      <td>-0.004060</td>\n",
       "      <td>-0.003805</td>\n",
       "      <td>0.000637</td>\n",
       "      <td>0.000945</td>\n",
       "      <td>0.001570</td>\n",
       "      <td>-0.002211</td>\n",
       "      <td>0.003524</td>\n",
       "    </tr>\n",
       "    <tr>\n",
       "      <th>LoanAmount</th>\n",
       "      <td>-0.002213</td>\n",
       "      <td>-0.000865</td>\n",
       "      <td>1.000000</td>\n",
       "      <td>0.001261</td>\n",
       "      <td>0.002817</td>\n",
       "      <td>0.000794</td>\n",
       "      <td>0.002538</td>\n",
       "      <td>0.001551</td>\n",
       "      <td>-0.001685</td>\n",
       "      <td>-0.000771</td>\n",
       "      <td>0.000801</td>\n",
       "      <td>-0.000139</td>\n",
       "      <td>-0.000403</td>\n",
       "      <td>0.001848</td>\n",
       "    </tr>\n",
       "    <tr>\n",
       "      <th>CreditScore</th>\n",
       "      <td>-0.000548</td>\n",
       "      <td>-0.001430</td>\n",
       "      <td>0.001261</td>\n",
       "      <td>1.000000</td>\n",
       "      <td>0.000613</td>\n",
       "      <td>0.000016</td>\n",
       "      <td>0.001130</td>\n",
       "      <td>0.002020</td>\n",
       "      <td>0.001308</td>\n",
       "      <td>-0.003218</td>\n",
       "      <td>-0.001728</td>\n",
       "      <td>0.003018</td>\n",
       "      <td>-0.001689</td>\n",
       "      <td>0.002755</td>\n",
       "    </tr>\n",
       "    <tr>\n",
       "      <th>MonthsEmployed</th>\n",
       "      <td>-0.000341</td>\n",
       "      <td>0.002675</td>\n",
       "      <td>0.002817</td>\n",
       "      <td>0.000613</td>\n",
       "      <td>1.000000</td>\n",
       "      <td>0.001267</td>\n",
       "      <td>-0.001166</td>\n",
       "      <td>-0.002241</td>\n",
       "      <td>0.001947</td>\n",
       "      <td>-0.000095</td>\n",
       "      <td>-0.000210</td>\n",
       "      <td>-0.001450</td>\n",
       "      <td>-0.000814</td>\n",
       "      <td>-0.001045</td>\n",
       "    </tr>\n",
       "    <tr>\n",
       "      <th>NumCreditLines</th>\n",
       "      <td>-0.000890</td>\n",
       "      <td>-0.002016</td>\n",
       "      <td>0.000794</td>\n",
       "      <td>0.000016</td>\n",
       "      <td>0.001267</td>\n",
       "      <td>1.000000</td>\n",
       "      <td>-0.000226</td>\n",
       "      <td>0.002652</td>\n",
       "      <td>0.000633</td>\n",
       "      <td>-0.000664</td>\n",
       "      <td>0.001744</td>\n",
       "      <td>0.001895</td>\n",
       "      <td>0.002571</td>\n",
       "      <td>-0.002105</td>\n",
       "    </tr>\n",
       "    <tr>\n",
       "      <th>LoanTerm</th>\n",
       "      <td>0.000263</td>\n",
       "      <td>-0.000998</td>\n",
       "      <td>0.002538</td>\n",
       "      <td>0.001130</td>\n",
       "      <td>-0.001166</td>\n",
       "      <td>-0.000226</td>\n",
       "      <td>1.000000</td>\n",
       "      <td>-0.002654</td>\n",
       "      <td>-0.000626</td>\n",
       "      <td>-0.001042</td>\n",
       "      <td>-0.001775</td>\n",
       "      <td>-0.002417</td>\n",
       "      <td>-0.001102</td>\n",
       "      <td>0.001166</td>\n",
       "    </tr>\n",
       "    <tr>\n",
       "      <th>Education</th>\n",
       "      <td>-0.001034</td>\n",
       "      <td>-0.004060</td>\n",
       "      <td>0.001551</td>\n",
       "      <td>0.002020</td>\n",
       "      <td>-0.002241</td>\n",
       "      <td>0.002652</td>\n",
       "      <td>-0.002654</td>\n",
       "      <td>1.000000</td>\n",
       "      <td>-0.000973</td>\n",
       "      <td>-0.005682</td>\n",
       "      <td>0.000800</td>\n",
       "      <td>-0.001614</td>\n",
       "      <td>-0.000908</td>\n",
       "      <td>0.000519</td>\n",
       "    </tr>\n",
       "    <tr>\n",
       "      <th>EmploymentType</th>\n",
       "      <td>-0.002529</td>\n",
       "      <td>-0.003805</td>\n",
       "      <td>-0.001685</td>\n",
       "      <td>0.001308</td>\n",
       "      <td>0.001947</td>\n",
       "      <td>0.000633</td>\n",
       "      <td>-0.000626</td>\n",
       "      <td>-0.000973</td>\n",
       "      <td>1.000000</td>\n",
       "      <td>-0.000538</td>\n",
       "      <td>-0.001773</td>\n",
       "      <td>-0.001082</td>\n",
       "      <td>0.001589</td>\n",
       "      <td>0.002268</td>\n",
       "    </tr>\n",
       "    <tr>\n",
       "      <th>MaritalStatus</th>\n",
       "      <td>-0.002187</td>\n",
       "      <td>0.000637</td>\n",
       "      <td>-0.000771</td>\n",
       "      <td>-0.003218</td>\n",
       "      <td>-0.000095</td>\n",
       "      <td>-0.000664</td>\n",
       "      <td>-0.001042</td>\n",
       "      <td>-0.005682</td>\n",
       "      <td>-0.000538</td>\n",
       "      <td>1.000000</td>\n",
       "      <td>0.000408</td>\n",
       "      <td>0.000437</td>\n",
       "      <td>-0.002190</td>\n",
       "      <td>0.000888</td>\n",
       "    </tr>\n",
       "    <tr>\n",
       "      <th>HasMortgage</th>\n",
       "      <td>-0.000035</td>\n",
       "      <td>0.000945</td>\n",
       "      <td>0.000801</td>\n",
       "      <td>-0.001728</td>\n",
       "      <td>-0.000210</td>\n",
       "      <td>0.001744</td>\n",
       "      <td>-0.001775</td>\n",
       "      <td>0.000800</td>\n",
       "      <td>-0.001773</td>\n",
       "      <td>0.000408</td>\n",
       "      <td>1.000000</td>\n",
       "      <td>0.000067</td>\n",
       "      <td>0.000238</td>\n",
       "      <td>-0.003529</td>\n",
       "    </tr>\n",
       "    <tr>\n",
       "      <th>HasDependents</th>\n",
       "      <td>-0.000710</td>\n",
       "      <td>0.001570</td>\n",
       "      <td>-0.000139</td>\n",
       "      <td>0.003018</td>\n",
       "      <td>-0.001450</td>\n",
       "      <td>0.001895</td>\n",
       "      <td>-0.002417</td>\n",
       "      <td>-0.001614</td>\n",
       "      <td>-0.001082</td>\n",
       "      <td>0.000437</td>\n",
       "      <td>0.000067</td>\n",
       "      <td>1.000000</td>\n",
       "      <td>-0.002604</td>\n",
       "      <td>0.001602</td>\n",
       "    </tr>\n",
       "    <tr>\n",
       "      <th>LoanPurpose</th>\n",
       "      <td>-0.004313</td>\n",
       "      <td>-0.002211</td>\n",
       "      <td>-0.000403</td>\n",
       "      <td>-0.001689</td>\n",
       "      <td>-0.000814</td>\n",
       "      <td>0.002571</td>\n",
       "      <td>-0.001102</td>\n",
       "      <td>-0.000908</td>\n",
       "      <td>0.001589</td>\n",
       "      <td>-0.002190</td>\n",
       "      <td>0.000238</td>\n",
       "      <td>-0.002604</td>\n",
       "      <td>1.000000</td>\n",
       "      <td>-0.000704</td>\n",
       "    </tr>\n",
       "    <tr>\n",
       "      <th>HasCoSigner</th>\n",
       "      <td>0.002918</td>\n",
       "      <td>0.003524</td>\n",
       "      <td>0.001848</td>\n",
       "      <td>0.002755</td>\n",
       "      <td>-0.001045</td>\n",
       "      <td>-0.002105</td>\n",
       "      <td>0.001166</td>\n",
       "      <td>0.000519</td>\n",
       "      <td>0.002268</td>\n",
       "      <td>0.000888</td>\n",
       "      <td>-0.003529</td>\n",
       "      <td>0.001602</td>\n",
       "      <td>-0.000704</td>\n",
       "      <td>1.000000</td>\n",
       "    </tr>\n",
       "  </tbody>\n",
       "</table>\n",
       "</div>"
      ],
      "text/plain": [
       "                     Age    Income  LoanAmount  CreditScore  MonthsEmployed  \\\n",
       "Age             1.000000 -0.001244   -0.002213    -0.000548       -0.000341   \n",
       "Income         -0.001244  1.000000   -0.000865    -0.001430        0.002675   \n",
       "LoanAmount     -0.002213 -0.000865    1.000000     0.001261        0.002817   \n",
       "CreditScore    -0.000548 -0.001430    0.001261     1.000000        0.000613   \n",
       "MonthsEmployed -0.000341  0.002675    0.002817     0.000613        1.000000   \n",
       "NumCreditLines -0.000890 -0.002016    0.000794     0.000016        0.001267   \n",
       "LoanTerm        0.000263 -0.000998    0.002538     0.001130       -0.001166   \n",
       "Education      -0.001034 -0.004060    0.001551     0.002020       -0.002241   \n",
       "EmploymentType -0.002529 -0.003805   -0.001685     0.001308        0.001947   \n",
       "MaritalStatus  -0.002187  0.000637   -0.000771    -0.003218       -0.000095   \n",
       "HasMortgage    -0.000035  0.000945    0.000801    -0.001728       -0.000210   \n",
       "HasDependents  -0.000710  0.001570   -0.000139     0.003018       -0.001450   \n",
       "LoanPurpose    -0.004313 -0.002211   -0.000403    -0.001689       -0.000814   \n",
       "HasCoSigner     0.002918  0.003524    0.001848     0.002755       -0.001045   \n",
       "\n",
       "                NumCreditLines  LoanTerm  Education  EmploymentType  \\\n",
       "Age                  -0.000890  0.000263  -0.001034       -0.002529   \n",
       "Income               -0.002016 -0.000998  -0.004060       -0.003805   \n",
       "LoanAmount            0.000794  0.002538   0.001551       -0.001685   \n",
       "CreditScore           0.000016  0.001130   0.002020        0.001308   \n",
       "MonthsEmployed        0.001267 -0.001166  -0.002241        0.001947   \n",
       "NumCreditLines        1.000000 -0.000226   0.002652        0.000633   \n",
       "LoanTerm             -0.000226  1.000000  -0.002654       -0.000626   \n",
       "Education             0.002652 -0.002654   1.000000       -0.000973   \n",
       "EmploymentType        0.000633 -0.000626  -0.000973        1.000000   \n",
       "MaritalStatus        -0.000664 -0.001042  -0.005682       -0.000538   \n",
       "HasMortgage           0.001744 -0.001775   0.000800       -0.001773   \n",
       "HasDependents         0.001895 -0.002417  -0.001614       -0.001082   \n",
       "LoanPurpose           0.002571 -0.001102  -0.000908        0.001589   \n",
       "HasCoSigner          -0.002105  0.001166   0.000519        0.002268   \n",
       "\n",
       "                MaritalStatus  HasMortgage  HasDependents  LoanPurpose  \\\n",
       "Age                 -0.002187    -0.000035      -0.000710    -0.004313   \n",
       "Income               0.000637     0.000945       0.001570    -0.002211   \n",
       "LoanAmount          -0.000771     0.000801      -0.000139    -0.000403   \n",
       "CreditScore         -0.003218    -0.001728       0.003018    -0.001689   \n",
       "MonthsEmployed      -0.000095    -0.000210      -0.001450    -0.000814   \n",
       "NumCreditLines      -0.000664     0.001744       0.001895     0.002571   \n",
       "LoanTerm            -0.001042    -0.001775      -0.002417    -0.001102   \n",
       "Education           -0.005682     0.000800      -0.001614    -0.000908   \n",
       "EmploymentType      -0.000538    -0.001773      -0.001082     0.001589   \n",
       "MaritalStatus        1.000000     0.000408       0.000437    -0.002190   \n",
       "HasMortgage          0.000408     1.000000       0.000067     0.000238   \n",
       "HasDependents        0.000437     0.000067       1.000000    -0.002604   \n",
       "LoanPurpose         -0.002190     0.000238      -0.002604     1.000000   \n",
       "HasCoSigner          0.000888    -0.003529       0.001602    -0.000704   \n",
       "\n",
       "                HasCoSigner  \n",
       "Age                0.002918  \n",
       "Income             0.003524  \n",
       "LoanAmount         0.001848  \n",
       "CreditScore        0.002755  \n",
       "MonthsEmployed    -0.001045  \n",
       "NumCreditLines    -0.002105  \n",
       "LoanTerm           0.001166  \n",
       "Education          0.000519  \n",
       "EmploymentType     0.002268  \n",
       "MaritalStatus      0.000888  \n",
       "HasMortgage       -0.003529  \n",
       "HasDependents      0.001602  \n",
       "LoanPurpose       -0.000704  \n",
       "HasCoSigner        1.000000  "
      ]
     },
     "execution_count": 15,
     "metadata": {},
     "output_type": "execute_result"
    }
   ],
   "source": [
    "#Checking for Correlation\n",
    "df.corr()"
   ]
  },
  {
   "cell_type": "code",
   "execution_count": 16,
   "id": "76dd7c7e-519f-4d61-aeaa-e3b7104df324",
   "metadata": {},
   "outputs": [],
   "source": [
    "# Split data into dependent/independent variables\n",
    "y= df['LoanAmount']\n",
    "x= df.drop(['LoanAmount'], axis = 1)"
   ]
  },
  {
   "cell_type": "code",
   "execution_count": 17,
   "id": "81d6dc86-0ccb-4009-8900-2f15dd98f07e",
   "metadata": {},
   "outputs": [],
   "source": [
    "# Split data into test/train set\n",
    "X_train, X_test, y_train, y_test = train_test_split(x, y, test_size = 0.25, random_state = True)"
   ]
  },
  {
   "cell_type": "code",
   "execution_count": 18,
   "id": "0a0f12ce-2d1e-4e92-b576-a30cb95cf849",
   "metadata": {},
   "outputs": [
    {
     "data": {
      "text/plain": [
       "'# Scale dataset\\nsc = StandardScaler()\\nX_train = sc.fit_transform(X_train)\\nX_test = sc.transform(X_test)'"
      ]
     },
     "execution_count": 18,
     "metadata": {},
     "output_type": "execute_result"
    }
   ],
   "source": [
    "\"\"\"# Scale dataset\n",
    "sc = StandardScaler()\n",
    "X_train = sc.fit_transform(X_train)\n",
    "X_test = sc.transform(X_test)\"\"\""
   ]
  },
  {
   "cell_type": "code",
   "execution_count": 19,
   "id": "495d78dc-ae1c-4b26-8d5f-c642287e0f8d",
   "metadata": {},
   "outputs": [],
   "source": [
    "#Test Models\n",
    "def cross_val(model):\n",
    "    pred = cross_val_score(model, x, y, cv=10)\n",
    "    return pred.mean()\n",
    "\n",
    "def print_evaluate(true, predicted):  \n",
    "    mae = metrics.mean_absolute_error(true, predicted)\n",
    "    mse = metrics.mean_squared_error(true, predicted)\n",
    "    rmse = np.sqrt(metrics.mean_squared_error(true, predicted))\n",
    "    r2_square = metrics.r2_score(true, predicted)\n",
    "    print('MAE:', mae)\n",
    "    print('MSE:', mse)\n",
    "    print('RMSE:', rmse)\n",
    "    print('R2 Square', r2_square)\n",
    "    print('__________________________________')\n",
    "    \n",
    "def evaluate(true, predicted):\n",
    "    mae = metrics.mean_absolute_error(true, predicted)\n",
    "    mse = metrics.mean_squared_error(true, predicted)\n",
    "    rmse = np.sqrt(metrics.mean_squared_error(true, predicted))\n",
    "    r2_square = metrics.r2_score(true, predicted)\n",
    "    return mae, mse, rmse, r2_square\n"
   ]
  },
  {
   "cell_type": "code",
   "execution_count": 20,
   "id": "8f82ccb5-a4ac-4f2e-8ce5-7d9d18bb6b35",
   "metadata": {
    "scrolled": true
   },
   "outputs": [
    {
     "name": "stdout",
     "output_type": "stream",
     "text": [
      "Test set evaluation:\n",
      "_____________________________________\n",
      "MAE: 61361.01524416669\n",
      "MSE: 5013570746.483598\n",
      "RMSE: 70806.57276329365\n",
      "R2 Square -0.00018184649638963712\n",
      "__________________________________\n",
      "Train set evaluation:\n",
      "_____________________________________\n",
      "MAE: 61384.021440726014\n",
      "MSE: 5020008413.290615\n",
      "RMSE: 70852.01770797085\n",
      "R2 Square 5.301058478179854e-05\n",
      "__________________________________\n"
     ]
    }
   ],
   "source": [
    "#Linear Regression\n",
    "lin_reg = LinearRegression()\n",
    "lin_reg.fit(X_train,y_train)\n",
    "\n",
    "\n",
    "test_pred = lin_reg.predict(X_test)\n",
    "train_pred = lin_reg.predict(X_train)\n",
    "\n",
    "print('Test set evaluation:\\n_____________________________________')\n",
    "print_evaluate(y_test, test_pred)\n",
    "print('Train set evaluation:\\n_____________________________________')\n",
    "print_evaluate(y_train, train_pred)"
   ]
  },
  {
   "cell_type": "code",
   "execution_count": 21,
   "id": "f9ad3fcc-666f-4246-9238-4a40368bb616",
   "metadata": {},
   "outputs": [
    {
     "name": "stdout",
     "output_type": "stream",
     "text": [
      "Test set evaluation:\n",
      "_____________________________________\n",
      "MAE: 61361.01028963356\n",
      "MSE: 5013569773.860012\n",
      "RMSE: 70806.5658951203\n",
      "R2 Square -0.00018165246293455617\n",
      "__________________________________\n",
      "====================================\n",
      "Train set evaluation:\n",
      "_____________________________________\n",
      "MAE: 61384.021782344964\n",
      "MSE: 5020008413.42144\n",
      "RMSE: 70852.01770889408\n",
      "R2 Square 5.3010558722532686e-05\n",
      "__________________________________\n"
     ]
    }
   ],
   "source": [
    "#Ridge Regression\n",
    "model = Ridge(alpha=100, solver='cholesky', tol=0.0001, random_state=42)\n",
    "model.fit(X_train, y_train)\n",
    "pred = model.predict(X_test)\n",
    "\n",
    "test_pred = model.predict(X_test)\n",
    "train_pred = model.predict(X_train)\n",
    "\n",
    "print('Test set evaluation:\\n_____________________________________')\n",
    "print_evaluate(y_test, test_pred)\n",
    "print('====================================')\n",
    "print('Train set evaluation:\\n_____________________________________')\n",
    "print_evaluate(y_train, train_pred)"
   ]
  },
  {
   "cell_type": "code",
   "execution_count": 22,
   "id": "717a9daf-a07e-4169-bef3-21f2b26a23f3",
   "metadata": {},
   "outputs": [
    {
     "name": "stdout",
     "output_type": "stream",
     "text": [
      "Test set evaluation:\n",
      "_____________________________________\n",
      "MAE: 61356.339318087405\n",
      "MSE: 5012771154.896991\n",
      "RMSE: 70800.92622908961\n",
      "R2 Square -2.233204451984605e-05\n",
      "__________________________________\n",
      "====================================\n",
      "Train set evaluation:\n",
      "_____________________________________\n",
      "MAE: 61385.285826894906\n",
      "MSE: 5020177190.111151\n",
      "RMSE: 70853.20874957711\n",
      "R2 Square 1.9391542803615103e-05\n",
      "__________________________________\n"
     ]
    }
   ],
   "source": [
    "# Lasso Regression\n",
    "model = Lasso(alpha=0.1, \n",
    "              precompute=True, \n",
    "#               warm_start=True, \n",
    "              positive=True, \n",
    "              selection='random',\n",
    "              random_state=42)\n",
    "model.fit(X_train, y_train)\n",
    "\n",
    "test_pred = model.predict(X_test)\n",
    "train_pred = model.predict(X_train)\n",
    "\n",
    "print('Test set evaluation:\\n_____________________________________')\n",
    "print_evaluate(y_test, test_pred)\n",
    "print('====================================')\n",
    "print('Train set evaluation:\\n_____________________________________')\n",
    "print_evaluate(y_train, train_pred)"
   ]
  },
  {
   "cell_type": "code",
   "execution_count": 23,
   "id": "84bced11-cadd-40cd-8564-0bf2a7088cc1",
   "metadata": {},
   "outputs": [
    {
     "name": "stdout",
     "output_type": "stream",
     "text": [
      "Test set evaluation:\n",
      "_____________________________________\n",
      "MAE: 61360.9184837731\n",
      "MSE: 5013551756.212322\n",
      "RMSE: 70806.43866353061\n",
      "R2 Square -0.00017805803392434427\n",
      "__________________________________\n",
      "====================================\n",
      "Train set evaluation:\n",
      "_____________________________________\n",
      "MAE: 61384.028063917634\n",
      "MSE: 5020008463.025231\n",
      "RMSE: 70852.01805894615\n",
      "R2 Square 5.3000678029491155e-05\n",
      "__________________________________\n"
     ]
    }
   ],
   "source": [
    "#ElasticNet\n",
    "model = ElasticNet(alpha=0.1, l1_ratio=0.9, selection='random', random_state=42)\n",
    "model.fit(X_train, y_train)\n",
    "\n",
    "test_pred = model.predict(X_test)\n",
    "train_pred = model.predict(X_train)\n",
    "\n",
    "print('Test set evaluation:\\n_____________________________________')\n",
    "print_evaluate(y_test, test_pred)\n",
    "print('====================================')\n",
    "print('Train set evaluation:\\n_____________________________________')\n",
    "print_evaluate(y_train, train_pred)"
   ]
  },
  {
   "cell_type": "code",
   "execution_count": 24,
   "id": "0cb3ae88",
   "metadata": {},
   "outputs": [
    {
     "name": "stdout",
     "output_type": "stream",
     "text": [
      "Test set evaluation:\n",
      "_____________________________________\n",
      "MAE: 3252377198658172.0\n",
      "MSE: 1.2923758150692354e+31\n",
      "RMSE: 3594962885857426.0\n",
      "R2 Square -2.578223973382308e+21\n",
      "__________________________________\n",
      "====================================\n",
      "Train set evaluation:\n",
      "_____________________________________\n",
      "MAE: 3249557315788664.0\n",
      "MSE: 1.2912483452648507e+31\n",
      "RMSE: 3593394419298904.0\n",
      "R2 Square -2.572067194183448e+21\n",
      "__________________________________\n"
     ]
    },
    {
     "name": "stderr",
     "output_type": "stream",
     "text": [
      "c:\\Users\\juane\\anaconda3\\Lib\\site-packages\\sklearn\\linear_model\\_stochastic_gradient.py:1575: ConvergenceWarning: Maximum number of iteration reached before convergence. Consider increasing max_iter to improve the fit.\n",
      "  warnings.warn(\n"
     ]
    }
   ],
   "source": [
    "#Stochastic Gradient Descent Regressor \n",
    "sgd_reg = SGDRegressor(n_iter_no_change=250, penalty=None, eta0=0.0001, max_iter=10000)\n",
    "sgd_reg.fit(X_train, y_train)\n",
    "\n",
    "test_pred = sgd_reg.predict(X_test)\n",
    "train_pred = sgd_reg.predict(X_train)\n",
    "\n",
    "print('Test set evaluation:\\n_____________________________________')\n",
    "print_evaluate(y_test, test_pred)\n",
    "print('====================================')\n",
    "print('Train set evaluation:\\n_____________________________________')\n",
    "print_evaluate(y_train, train_pred)"
   ]
  },
  {
   "cell_type": "code",
   "execution_count": 27,
   "id": "e5f7f1fe-2127-4a70-957d-c8c31c7fa6b0",
   "metadata": {},
   "outputs": [],
   "source": [
    "#Saving the Model\n",
    "import pickle\n",
    "pickle.dump(lin_reg, open('lin_reg.pkl', 'wb'))\n",
    "\n",
    "#model = pickle.load(open('model_dt.pkl', 'rb'))"
   ]
  }
 ],
 "metadata": {
  "kernelspec": {
   "display_name": "Python 3 (ipykernel)",
   "language": "python",
   "name": "python3"
  },
  "language_info": {
   "codemirror_mode": {
    "name": "ipython",
    "version": 3
   },
   "file_extension": ".py",
   "mimetype": "text/x-python",
   "name": "python",
   "nbconvert_exporter": "python",
   "pygments_lexer": "ipython3",
   "version": "3.12.4"
  }
 },
 "nbformat": 4,
 "nbformat_minor": 5
}
